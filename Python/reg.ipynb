{
 "metadata": {
  "language_info": {
   "codemirror_mode": {
    "name": "ipython",
    "version": 3
   },
   "file_extension": ".py",
   "mimetype": "text/x-python",
   "name": "python",
   "nbconvert_exporter": "python",
   "pygments_lexer": "ipython3",
   "version": "3.8.3-final"
  },
  "orig_nbformat": 2,
  "kernelspec": {
   "name": "python3",
   "display_name": "Python 3"
  }
 },
 "nbformat": 4,
 "nbformat_minor": 2,
 "cells": [
  {
   "cell_type": "code",
   "execution_count": 16,
   "metadata": {},
   "outputs": [],
   "source": [
    "import numpy as np\n",
    "import pandas as pd\n",
    "import os"
   ]
  },
  {
   "cell_type": "code",
   "execution_count": 17,
   "metadata": {},
   "outputs": [
    {
     "output_type": "stream",
     "name": "stdout",
     "text": [
      "c:\\Users\\pmrld\\projects\\regressao-convencional-ponderada\\Python\n"
     ]
    }
   ],
   "source": [
    "print(os.path.abspath('.'))"
   ]
  },
  {
   "cell_type": "code",
   "execution_count": 18,
   "metadata": {},
   "outputs": [
    {
     "output_type": "execute_result",
     "data": {
      "text/plain": [
       "         x     mux        y      muy\n",
       "0   0.9501  0.0043  0.17800  0.00075\n",
       "1   2.0600  0.0076  0.32700  0.00140\n",
       "2   4.1000  0.0081  0.68102  0.00091\n",
       "3   3.7001  0.0049  0.55400  0.00150\n",
       "4   4.8900  0.0012  0.70000  0.00140\n",
       "5   6.1001  0.0078  0.85301  0.00068\n",
       "6   6.3500  0.0047  0.91501  0.00088\n",
       "7   7.6802  0.0060  1.35000  0.00120\n",
       "8   9.4000  0.0053  1.84500  0.00081\n",
       "9  10.8600  0.0090  1.35400  0.00110"
      ],
      "text/html": "<div>\n<style scoped>\n    .dataframe tbody tr th:only-of-type {\n        vertical-align: middle;\n    }\n\n    .dataframe tbody tr th {\n        vertical-align: top;\n    }\n\n    .dataframe thead th {\n        text-align: right;\n    }\n</style>\n<table border=\"1\" class=\"dataframe\">\n  <thead>\n    <tr style=\"text-align: right;\">\n      <th></th>\n      <th>x</th>\n      <th>mux</th>\n      <th>y</th>\n      <th>muy</th>\n    </tr>\n  </thead>\n  <tbody>\n    <tr>\n      <th>0</th>\n      <td>0.9501</td>\n      <td>0.0043</td>\n      <td>0.17800</td>\n      <td>0.00075</td>\n    </tr>\n    <tr>\n      <th>1</th>\n      <td>2.0600</td>\n      <td>0.0076</td>\n      <td>0.32700</td>\n      <td>0.00140</td>\n    </tr>\n    <tr>\n      <th>2</th>\n      <td>4.1000</td>\n      <td>0.0081</td>\n      <td>0.68102</td>\n      <td>0.00091</td>\n    </tr>\n    <tr>\n      <th>3</th>\n      <td>3.7001</td>\n      <td>0.0049</td>\n      <td>0.55400</td>\n      <td>0.00150</td>\n    </tr>\n    <tr>\n      <th>4</th>\n      <td>4.8900</td>\n      <td>0.0012</td>\n      <td>0.70000</td>\n      <td>0.00140</td>\n    </tr>\n    <tr>\n      <th>5</th>\n      <td>6.1001</td>\n      <td>0.0078</td>\n      <td>0.85301</td>\n      <td>0.00068</td>\n    </tr>\n    <tr>\n      <th>6</th>\n      <td>6.3500</td>\n      <td>0.0047</td>\n      <td>0.91501</td>\n      <td>0.00088</td>\n    </tr>\n    <tr>\n      <th>7</th>\n      <td>7.6802</td>\n      <td>0.0060</td>\n      <td>1.35000</td>\n      <td>0.00120</td>\n    </tr>\n    <tr>\n      <th>8</th>\n      <td>9.4000</td>\n      <td>0.0053</td>\n      <td>1.84500</td>\n      <td>0.00081</td>\n    </tr>\n    <tr>\n      <th>9</th>\n      <td>10.8600</td>\n      <td>0.0090</td>\n      <td>1.35400</td>\n      <td>0.00110</td>\n    </tr>\n  </tbody>\n</table>\n</div>"
     },
     "metadata": {},
     "execution_count": 18
    }
   ],
   "source": [
    "caminho = os.path.join(os.path.abspath('..'), 'data', 'dados.csv')\n",
    "dados = pd.read_csv(caminho)\n",
    "dados"
   ]
  },
  {
   "cell_type": "code",
   "execution_count": 19,
   "metadata": {},
   "outputs": [],
   "source": [
    "#Calcula os somatórios\n",
    "dadosConv = dados.copy()\n",
    "dadosConv['xQuadrado'] = [i**2 for i in dados['x']]\n",
    "dadosConv['yQuadrado'] = [i**2 for i in dados['y']]\n",
    "dadosConv['xy'] = dados['x'] * dados['y']\n",
    "\n",
    "sumX = sum(dadosConv['x'])\n",
    "sumY = sum(dadosConv['y'])\n",
    "sumXquadrado = sum(dadosConv['xQuadrado'])\n",
    "sumYquadrado = sum(dadosConv['yQuadrado'])\n",
    "sumXY = sum(dadosConv['xy'])"
   ]
  },
  {
   "cell_type": "code",
   "execution_count": 30,
   "metadata": {},
   "outputs": [
    {
     "output_type": "execute_result",
     "data": {
      "text/plain": [
       "         A       muA         B       muB\n",
       "0  0.01811  0.131955  0.152895  0.020802"
      ],
      "text/html": "<div>\n<style scoped>\n    .dataframe tbody tr th:only-of-type {\n        vertical-align: middle;\n    }\n\n    .dataframe tbody tr th {\n        vertical-align: top;\n    }\n\n    .dataframe thead th {\n        text-align: right;\n    }\n</style>\n<table border=\"1\" class=\"dataframe\">\n  <thead>\n    <tr style=\"text-align: right;\">\n      <th></th>\n      <th>A</th>\n      <th>muA</th>\n      <th>B</th>\n      <th>muB</th>\n    </tr>\n  </thead>\n  <tbody>\n    <tr>\n      <th>0</th>\n      <td>0.01811</td>\n      <td>0.131955</td>\n      <td>0.152895</td>\n      <td>0.020802</td>\n    </tr>\n  </tbody>\n</table>\n</div>"
     },
     "metadata": {},
     "execution_count": 30
    }
   ],
   "source": [
    "#regressão convencional\n",
    "delta = len(dadosConv)*sumXquadrado - sumX**2\n",
    "aConv = (sumXquadrado*sumY - sumX*sumXY)/delta\n",
    "bConv = (len(dadosConv)*sumXY - sumX*sumY)/delta\n",
    "factor1 = 1/(len(dadosConv) - 2)\n",
    "factor2 = sumYquadrado - 2*aConv*sumY - 2*bConv*sumXY + 2*aConv*bConv*sumX + \\\n",
    "          bConv**2*sumXquadrado + len(dados)*aConv**2\n",
    "sigmaY = np.sqrt(factor1*factor2)\n",
    "muAconv = sigmaY*np.sqrt(sumXquadrado/delta)\n",
    "muBconv = sigmaY*np.sqrt(len(dadosConv)/delta)\n",
    "\n",
    "d={'A': [aConv], 'muA': [muAconv], 'B':[bConv], 'muB': [muBconv]}\n",
    "conv = pd.DataFrame(data=d)\n",
    "conv"
   ]
  },
  {
   "cell_type": "code",
   "execution_count": 38,
   "metadata": {},
   "outputs": [],
   "source": [
    "aPond, muApond, bPond, muBpond = 0,0,0,0\n",
    "\n",
    "def iteracaoPond():\n",
    "    "
   ]
  },
  {
   "cell_type": "code",
   "execution_count": 55,
   "metadata": {
    "tags": []
   },
   "outputs": [
    {
     "output_type": "stream",
     "name": "stdout",
     "text": [
      "A: -0.10316721906901961\nmuA: 0.00331897715214684\nB: 0.1704966974854296\nmuB: 0.0006288487598491363\nIteração 1\nA: -0.10362326431139042\nmuA: 0.00331497137488274\nB: 0.1705090510136038\nmuB: 0.000628681496533683\n"
     ]
    }
   ],
   "source": [
    "#regrssão ponderada\n",
    "dadosPond = dados.copy()\n",
    "dadosPond['sigma'] = np.sqrt(dadosPond['mux']**2 + bTransf*dadosPond['muy']**2)\n",
    "dadosPond['w'] = [1/i**2 for i in dadosPond['sigma']]\n",
    "sumW = sum(dadosPond['w'])\n",
    "dadosPond['wx'] = dadosPond['w'] * dadosPond['x']\n",
    "sumWX = sum(dadosPond['wx'])\n",
    "dadosPond['wy'] = dadosPond['w'] * dadosPond['y']\n",
    "sumWY = sum(dadosPond['wy'])\n",
    "dadosPond['wxx'] = dadosPond['w'] * [i**2 for i in dadosPond['x']]\n",
    "sumWXX = sum(dadosPond['wxx'])\n",
    "dadosPond['wxy'] = dadosPond['w'] * dadosPond['x'] * dadosPond['y']\n",
    "sumWXY = sum(dadosPond['wxy'])\n",
    "\n",
    "delta = sumW * sumWXX - sumWX**2\n",
    "aPond = (sumWY*sumWXX - sumWX*sumWXY)/delta\n",
    "muApond = np.sqrt(sumWXX/delta)\n",
    "bPond = (sumW*sumWXY - sumWX*sumWY)/delta\n",
    "muBpond = np.sqrt(sumW/delta)\n",
    "\n",
    "print(\"A: {}\\nmuA: {}\\nB: {}\\nmuB: {}\".format(aPond, muApond, bPond, muBpond))\n",
    "\n",
    "ann = aConv\n",
    "an = aPond\n",
    "muTransf = muApond\n",
    "bTransf = bConv\n",
    "\n",
    "i = 1\n",
    "while abs(ann - an) >= muTransf:\n",
    "    print(\"Iteração {}\".format(i))\n",
    "    \n",
    "\n",
    "    dadosPond['sigma'] = np.sqrt(dadosPond['mux']**2 + bTransf*dadosPond['muy']**2)\n",
    "    dadosPond['w'] = [1/i**2 for i in dadosPond['sigma']]\n",
    "    sumW = sum(dadosPond['w'])\n",
    "    dadosPond['wx'] = dadosPond['w'] * dadosPond['x']\n",
    "    sumWX = sum(dadosPond['wx'])\n",
    "    dadosPond['wy'] = dadosPond['w'] * dadosPond['y']\n",
    "    sumWY = sum(dadosPond['wy'])\n",
    "    dadosPond['wxx'] = dadosPond['w'] * [i**2 for i in dadosPond['x']]\n",
    "    sumWXX = sum(dadosPond['wxx'])\n",
    "    dadosPond['wxy'] = dadosPond['w'] * dadosPond['x'] * dadosPond['y']\n",
    "    sumWXY = sum(dadosPond['wxy'])\n",
    "\n",
    "    delta = sumW * sumWXX - sumWX**2\n",
    "    aPond = (sumWY*sumWXX - sumWX*sumWXY)/delta\n",
    "    muApond = np.sqrt(sumWXX/delta)\n",
    "    bPond = (sumW*sumWXY - sumWX*sumWY)/delta\n",
    "    muBpond = np.sqrt(sumW/delta)\n",
    "\n",
    "    print(\"A: {}\\nmuA: {}\\nB: {}\\nmuB: {}\".format(aPond, muApond, bPond, muBpond))\n",
    "\n",
    "    i = i + 1\n",
    "    ann = an\n",
    "    an = aPond\n",
    "    bTransf = bPond\n",
    "    muTransf = muApond    \n",
    "\n",
    "###\n",
    "#d={'A': [aPond], 'muA': [muApond], 'B':[bPond], 'muB': [muBpond]}\n",
    "#pond = pd.DataFrame(data=d)\n",
    "#pond\n",
    "###\n",
    "           \n"
   ]
  },
  {
   "cell_type": "code",
   "execution_count": null,
   "metadata": {},
   "outputs": [],
   "source": []
  }
 ]
}